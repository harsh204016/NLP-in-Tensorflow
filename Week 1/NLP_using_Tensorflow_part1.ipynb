{
  "nbformat": 4,
  "nbformat_minor": 0,
  "metadata": {
    "colab": {
      "name": "NLP using Tensorflow part1.ipynb",
      "provenance": [],
      "include_colab_link": true
    },
    "kernelspec": {
      "name": "python3",
      "display_name": "Python 3"
    }
  },
  "cells": [
    {
      "cell_type": "markdown",
      "metadata": {
        "id": "view-in-github",
        "colab_type": "text"
      },
      "source": [
        "<a href=\"https://colab.research.google.com/github/harsh204016/NLP-in-Tensorflow/blob/master/NLP_using_Tensorflow_part1.ipynb\" target=\"_parent\"><img src=\"https://colab.research.google.com/assets/colab-badge.svg\" alt=\"Open In Colab\"/></a>"
      ]
    },
    {
      "cell_type": "code",
      "metadata": {
        "id": "8bdHCtBFneIr",
        "colab_type": "code",
        "colab": {}
      },
      "source": [
        "import tensorflow as tf\n",
        "import keras\n",
        "from keras.preprocessing.text import Tokenizer"
      ],
      "execution_count": 0,
      "outputs": []
    },
    {
      "cell_type": "code",
      "metadata": {
        "id": "H3lRmpxGolWN",
        "colab_type": "code",
        "colab": {}
      },
      "source": [
        "sen=['I love my dog','I love my cat','You love my dog!','Do you think my dog is amazing?']"
      ],
      "execution_count": 0,
      "outputs": []
    },
    {
      "cell_type": "code",
      "metadata": {
        "id": "DmnsrmAZpAFr",
        "colab_type": "code",
        "outputId": "f0f5d468-ab06-4ff4-b1d1-134a63c5104c",
        "colab": {
          "base_uri": "https://localhost:8080/",
          "height": 34
        }
      },
      "source": [
        "ton=Tokenizer(num_words=100)\n",
        "ton.fit_on_texts(sen)\n",
        "word=ton.word_index\n",
        "\n",
        "print(word)"
      ],
      "execution_count": 0,
      "outputs": [
        {
          "output_type": "stream",
          "text": [
            "{'my': 1, 'love': 2, 'dog': 3, 'i': 4, 'you': 5, 'cat': 6, 'do': 7, 'think': 8, 'is': 9, 'amazing': 10}\n"
          ],
          "name": "stdout"
        }
      ]
    },
    {
      "cell_type": "code",
      "metadata": {
        "id": "uk3oviT-pe5f",
        "colab_type": "code",
        "outputId": "228a527f-b80e-470c-9e6c-17df4e026116",
        "colab": {
          "base_uri": "https://localhost:8080/",
          "height": 34
        }
      },
      "source": [
        "seq=ton.texts_to_sequences(sen)\n",
        "print(seq)"
      ],
      "execution_count": 0,
      "outputs": [
        {
          "output_type": "stream",
          "text": [
            "[[4, 2, 1, 3], [4, 2, 1, 6], [5, 2, 1, 3], [7, 5, 8, 1, 3, 9, 10]]\n"
          ],
          "name": "stdout"
        }
      ]
    },
    {
      "cell_type": "code",
      "metadata": {
        "id": "4lRLq6v76Czj",
        "colab_type": "code",
        "outputId": "0be11078-4afc-4a48-919c-90e1415f577d",
        "colab": {
          "base_uri": "https://localhost:8080/",
          "height": 34
        }
      },
      "source": [
        "test_sen=['I love to talk with dog','cat are very smart']\n",
        "s=ton.texts_to_sequences(test_sen)\n",
        "print(s)"
      ],
      "execution_count": 0,
      "outputs": [
        {
          "output_type": "stream",
          "text": [
            "[[4, 2, 3], [6]]\n"
          ],
          "name": "stdout"
        }
      ]
    },
    {
      "cell_type": "markdown",
      "metadata": {
        "id": "EsvWXzZu8FIH",
        "colab_type": "text"
      },
      "source": [
        "**How to Handle the extra words in test sentences**\n"
      ]
    },
    {
      "cell_type": "code",
      "metadata": {
        "id": "u9jrezzd7dVb",
        "colab_type": "code",
        "outputId": "ff1cc80a-b112-423c-d6b4-7d3c5e3d81ab",
        "colab": {
          "base_uri": "https://localhost:8080/",
          "height": 51
        }
      },
      "source": [
        "t=Tokenizer(num_words=100,oov_token='<OOV>')\n",
        "t.fit_on_texts(sen)\n",
        "word=t.word_index\n",
        "s=t.texts_to_sequences(test_sen)\n",
        "print(word)\n",
        "print(s)"
      ],
      "execution_count": 0,
      "outputs": [
        {
          "output_type": "stream",
          "text": [
            "{'<OOV>': 1, 'my': 2, 'love': 3, 'dog': 4, 'i': 5, 'you': 6, 'cat': 7, 'do': 8, 'think': 9, 'is': 10, 'amazing': 11}\n",
            "[[5, 3, 1, 1, 1, 4], [7, 1, 1, 1]]\n"
          ],
          "name": "stdout"
        }
      ]
    },
    {
      "cell_type": "markdown",
      "metadata": {
        "id": "tH5fwisc96fL",
        "colab_type": "text"
      },
      "source": [
        "**Padding(to make equal length of sentences)**"
      ]
    },
    {
      "cell_type": "code",
      "metadata": {
        "id": "dG_GR92R9SYw",
        "colab_type": "code",
        "outputId": "789866a4-a1f2-4726-ced7-c6a3233d1868",
        "colab": {
          "base_uri": "https://localhost:8080/",
          "height": 136
        }
      },
      "source": [
        "from keras.preprocessing.sequence import pad_sequences\n",
        "t=Tokenizer(num_words=100,oov_token='<OOV>')\n",
        "t.fit_on_texts(sen)\n",
        "word=t.word_index               #to convert words into tokens\n",
        "seq=ton.texts_to_sequences(sen)\n",
        "s=t.texts_to_sequences(test_sen)  #to convert sentences to tokens\n",
        "padded=pad_sequences(s)    #for padding\n",
        "print('\\nWords Tokens',word)\n",
        "print('\\nSequence',s)\n",
        "print('\\n Padded',padded)"
      ],
      "execution_count": 0,
      "outputs": [
        {
          "output_type": "stream",
          "text": [
            "\n",
            "Words Tokens {'<OOV>': 1, 'my': 2, 'love': 3, 'dog': 4, 'i': 5, 'you': 6, 'cat': 7, 'do': 8, 'think': 9, 'is': 10, 'amazing': 11}\n",
            "\n",
            "Sequence [[5, 3, 1, 1, 1, 4], [7, 1, 1, 1]]\n",
            "\n",
            " Padded [[5 3 1 1 1 4]\n",
            " [0 0 7 1 1 1]]\n"
          ],
          "name": "stdout"
        }
      ]
    },
    {
      "cell_type": "code",
      "metadata": {
        "id": "u5U-Cxuc95xp",
        "colab_type": "code",
        "outputId": "eee9217c-04d9-4b4e-bd9b-d5f6f8801b8b",
        "colab": {
          "base_uri": "https://localhost:8080/",
          "height": 68
        }
      },
      "source": [
        "#maxlen is used for max length of matrix \n",
        "#padding to done after  or before the sentences \n",
        "#truncating when length of sentence is more than size of maxlen ,then from you want to dec the len  \n",
        "paded=pad_sequences(s,maxlen=6,padding='post',truncating='post') \n",
        "print('\\nPadded',paded)"
      ],
      "execution_count": 0,
      "outputs": [
        {
          "output_type": "stream",
          "text": [
            "\n",
            "Padded [[5 3 1 1 1 4]\n",
            " [7 1 1 1 0 0]]\n"
          ],
          "name": "stdout"
        }
      ]
    },
    {
      "cell_type": "code",
      "metadata": {
        "id": "GuX98dsuAwKf",
        "colab_type": "code",
        "colab": {}
      },
      "source": [
        ""
      ],
      "execution_count": 0,
      "outputs": []
    }
  ]
}
